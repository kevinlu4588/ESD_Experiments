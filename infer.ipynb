{
 "cells": [
  {
   "cell_type": "code",
   "execution_count": 3,
   "metadata": {},
   "outputs": [],
   "source": [
    "import torch\n",
    "import matplotlib.pyplot as plt\n",
    "import os\n",
    "from esd_diffusers import FineTunedModel, StableDiffuser"
   ]
  },
  {
   "cell_type": "markdown",
   "metadata": {},
   "source": [
    "# This is dependent on the unreleased code esd_diffusers. Make sure it is in the same dir."
   ]
  },
  {
   "cell_type": "code",
   "execution_count": null,
   "metadata": {},
   "outputs": [],
   "source": [
    "# load saved state\n",
    "tune_method = \"noxattn\"\n",
    "state_path = os.path.join(\".\", \"models\")\n",
    "state_dict = torch.load(os.path.join(state_path, f\"esd-car_from_car-{tune_method}_1-epochs_200_mini.pt\"))"
   ]
  },
  {
   "cell_type": "code",
   "execution_count": null,
   "metadata": {},
   "outputs": [],
   "source": [
    "diffuser = StableDiffuser(scheduler='DDIM').to('cuda')"
   ]
  },
  {
   "cell_type": "code",
   "execution_count": null,
   "metadata": {},
   "outputs": [],
   "source": [
    "finetuner = FineTunedModel(diffuser, train_method=tune_method)\n",
    "finetuner.load_state_dict(state_dict)"
   ]
  },
  {
   "cell_type": "code",
   "execution_count": null,
   "metadata": {},
   "outputs": [],
   "source": [
    "# prompt and seed\n",
    "prompt = \"A car zooming through space at the speed of light.\"\n",
    "generator = torch.manual_seed(4230)"
   ]
  },
  {
   "cell_type": "code",
   "execution_count": null,
   "metadata": {},
   "outputs": [],
   "source": [
    "images = diffuser(\n",
    "            prompt,\n",
    "            n_steps=50,\n",
    "            generator=generator\n",
    "        )\n",
    "\n",
    "orig_image = images[0][0]\n",
    "torch.cuda.empty_cache()\n",
    "plt.imshow(orig_image)"
   ]
  },
  {
   "cell_type": "code",
   "execution_count": null,
   "metadata": {},
   "outputs": [],
   "source": [
    "with finetuner:\n",
    "    images = diffuser(\n",
    "        prompt,\n",
    "        n_steps=50,\n",
    "        generator=generator\n",
    "    )\n",
    "\n",
    "edited_image = images[0][0]\n",
    "torch.cuda.empty_cache()\n",
    "plt.imshow(edited_image)"
   ]
  }
 ],
 "metadata": {
  "kernelspec": {
   "display_name": "nn",
   "language": "python",
   "name": "python3"
  },
  "language_info": {
   "codemirror_mode": {
    "name": "ipython",
    "version": 3
   },
   "file_extension": ".py",
   "mimetype": "text/x-python",
   "name": "python",
   "nbconvert_exporter": "python",
   "pygments_lexer": "ipython3",
   "version": "3.9.18"
  }
 },
 "nbformat": 4,
 "nbformat_minor": 2
}
