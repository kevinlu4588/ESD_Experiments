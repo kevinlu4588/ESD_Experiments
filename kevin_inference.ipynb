{
 "cells": [
  {
   "cell_type": "code",
   "execution_count": null,
   "metadata": {},
   "outputs": [],
   "source": [
    "import torch\n",
    "import matplotlib.pyplot as plt\n",
    "import os\n",
    "from esd_diffusers import FineTunedModel, StableDiffuser\n",
    "from IPython.utils import io\n",
    "import matplotlib.image as mpimg\n",
    "import pandas as pd\n",
    "import numpy as np\n",
    "import io\n",
    "from PIL import Image\n",
    "import matplotlib.pyplot as plt\n",
    "import matplotlib.image as mpimg\n",
    "import os"
   ]
  },
  {
   "cell_type": "markdown",
   "metadata": {},
   "source": [
    "## Generates and saves images(1 per prompt)"
   ]
  },
  {
   "cell_type": "code",
   "execution_count": null,
   "metadata": {},
   "outputs": [],
   "source": [
    "def generate_images(model_path, prompts_path, save_path, tune_method):\n",
    "    state_dict = torch.load(model_path)\n",
    "    diffuser = StableDiffuser(scheduler='DDIM').to('cuda')\n",
    "    finetuner = FineTunedModel(diffuser, train_method=tune_method)\n",
    "\n",
    "    finetuner.load_state_dict(state_dict)\n",
    "    df = pd.read_csv(prompts_path)\n",
    "\n",
    "    #generation loop\n",
    "    all_images = []\n",
    "    for _, row in df.iterrows():\n",
    "        prompt = row.Prompt\n",
    "        seed = torch.manual_seed(row.evaluation_seed)\n",
    "        case_number = row.case_number\n",
    "        with finetuner:\n",
    "            images = diffuser(\n",
    "                                prompt,\n",
    "                                n_steps=10,\n",
    "                                generator=seed\n",
    "                        )\n",
    "        all_images.extend(images)\n",
    "    \n",
    "    #saving images\n",
    "    all_images_np = np.array(all_images)\n",
    "    all_images_np = all_images_np.squeeze()\n",
    "\n",
    "    os.makedirs(save_path, exist_ok=True)\n",
    "    for i, image_np in enumerate(all_images_np):\n",
    "        image = Image.fromarray(image_np)  # Convert to uint8 before saving\n",
    "        image.save(os.path.join(save_path, f'{case_number}_{i}.png'))"
   ]
  },
  {
   "cell_type": "markdown",
   "metadata": {},
   "source": [
    "## Generating images for Van Gogh erased model"
   ]
  },
  {
   "cell_type": "code",
   "execution_count": null,
   "metadata": {},
   "outputs": [],
   "source": [
    "prompts_path = '/home/lu.kev/Kevins Dataset.csv'\n",
    "generate_images(model_path='/home/lu.kev/models/van_gogh_xattn_200.pt', prompts_path=prompts_path, save_path='ESD_images/Van_Gogh/', tune_method=\"xattn\")"
   ]
  },
  {
   "cell_type": "code",
   "execution_count": null,
   "metadata": {},
   "outputs": [],
   "source": [
    "def show_image_grid(image_dir, num_rows=20, num_cols=10, fig_size = (20,40)):\n",
    "    # Get list of image file names\n",
    "    image_files = [os.path.join(image_dir, f) for f in os.listdir(image_dir) if f.endswith('.png')]\n",
    "\n",
    "\n",
    "    # Create a 20x10 grid to display the images\n",
    "    fig, axes = plt.subplots(num_rows, num_cols, figsize=fig_size)\n",
    "\n",
    "    # Plot each image in the grid\n",
    "    for i, ax in enumerate(axes.flatten()):\n",
    "        img = mpimg.imread(image_files[i])\n",
    "        ax.imshow(img)\n",
    "        ax.axis('off')  # Turn off axis labels\n",
    "\n",
    "    plt.tight_layout()\n",
    "    plt.show()"
   ]
  },
  {
   "cell_type": "markdown",
   "metadata": {},
   "source": [
    "## Generating image grids from saved images on Discovery cloud"
   ]
  },
  {
   "cell_type": "code",
   "execution_count": null,
   "metadata": {},
   "outputs": [],
   "source": [
    "show_image_grid('ESD_images/Dog/', num_rows=20, num_cols=10, fig_size=(20,40))"
   ]
  },
  {
   "cell_type": "code",
   "execution_count": null,
   "metadata": {},
   "outputs": [],
   "source": [
    "show_image_grid('ESD_images/Van_Gogh/', num_rows=20, num_cols=10, fig_size=(20,40))"
   ]
  },
  {
   "cell_type": "code",
   "execution_count": null,
   "metadata": {},
   "outputs": [],
   "source": []
  }
 ],
 "metadata": {
  "kernelspec": {
   "display_name": "pytorch_env",
   "language": "python",
   "name": "python3"
  },
  "language_info": {
   "codemirror_mode": {
    "name": "ipython",
    "version": 3
   },
   "file_extension": ".py",
   "mimetype": "text/x-python",
   "name": "python",
   "nbconvert_exporter": "python",
   "pygments_lexer": "ipython3",
   "version": "3.10.14"
  },
  "orig_nbformat": 4
 },
 "nbformat": 4,
 "nbformat_minor": 2
}
